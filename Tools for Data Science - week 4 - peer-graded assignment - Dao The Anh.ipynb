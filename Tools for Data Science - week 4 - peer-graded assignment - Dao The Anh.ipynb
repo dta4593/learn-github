{
 "cells": [
  {
   "cell_type": "markdown",
   "metadata": {},
   "source": [
    "<center>\n",
    "    <img src=\"https://cf-courses-data.s3.us.cloud-object-storage.appdomain.cloud/IBMDeveloperSkillsNetwork-DS0105EN-SkillsNetwork/labs/Module2/images/SN_web_lightmode.png\" width=\"300\" alt=\"cognitiveclass.ai logo\"  />\n",
    "</center>\n"
   ]
  },
  {
   "cell_type": "markdown",
   "metadata": {},
   "source": [
    "#### Add your code below following the instructions given in the course\n"
   ]
  },
  {
   "cell_type": "markdown",
   "metadata": {},
   "source": [
    "# My Jupyter Notebook on IBM Watson Studio"
   ]
  },
  {
   "cell_type": "markdown",
   "metadata": {},
   "source": [
    "<b> The Anh Dao </b><br>\n",
    "Current Occupation: Data Analyst"
   ]
  },
  {
   "cell_type": "markdown",
   "metadata": {},
   "source": [
    "_I want to improve my abilities in analyzing big data through Python. Mostly, I want to be more experienced in ETL & data mining skills. In addition, learning to build and evaluate machine learning models and pipelines by using Python is somewhat interesting to me._"
   ]
  },
  {
   "cell_type": "markdown",
   "metadata": {},
   "source": [
    "### I am going to prinat the most common sentence in programming world:"
   ]
  },
  {
   "cell_type": "code",
   "execution_count": 4,
   "metadata": {},
   "outputs": [
    {
     "name": "stdout",
     "output_type": "stream",
     "text": [
      "Hello World\n"
     ]
    }
   ],
   "source": [
    "print('Hello World')"
   ]
  },
  {
   "cell_type": "markdown",
   "metadata": {},
   "source": [
    "### Numbered list<br>\n",
    "Reason why I chose this sentence:\n",
    "1. it's iconic\n",
    "2. it's easy to write down \n",
    "\n",
    "### Horizontal rule<br>\n",
    "***\n",
    "\n",
    "### Bulleted list<br>\n",
    "Reason why I chose this sentence:\n",
    "* it's iconic\n",
    "* it's easy to write down \n",
    "\n",
    "### Tables\n",
    "\n",
    "| Stretch/Untouched | ProbDistribution | Accuracy |\n",
    "| --- | --- | --- |\n",
    "| Stretched | Gaussian | .843 |\n",
    "\n",
    "\n",
    "\n",
    "\n",
    "### Syntax Highlighting:\n",
    "```python\n",
    "print('Hello World')    #print the sentence.\n",
    "```\n",
    "\n",
    "### Blocked quotes\n",
    "   >“You will discover that you have two hands, one to help yourself and one to help others.”\n",
    "― Audrey Hepburn\n",
    "\n",
    "\n",
    "### Images\n",
    "![Audrey Hepburn](https://i.imgur.com/aKkN9vf.jpeg)\n",
    "\n",
    "\n",
    "### Hyperlinks:\n",
    "* Here is the link to the quote: [Audrey Hepburn quote](https://i.imgur.com/aKkN9vf)\n",
    "\n",
    "\n",
    "### Strikethrough\n",
    "~~Hello World.~~\n"
   ]
  }
 ],
 "metadata": {
  "kernelspec": {
   "display_name": "Python 3 (ipykernel)",
   "language": "python",
   "name": "python3"
  },
  "language_info": {
   "codemirror_mode": {
    "name": "ipython",
    "version": 3
   },
   "file_extension": ".py",
   "mimetype": "text/x-python",
   "name": "python",
   "nbconvert_exporter": "python",
   "pygments_lexer": "ipython3",
   "version": "3.9.7"
  }
 },
 "nbformat": 4,
 "nbformat_minor": 4
}
